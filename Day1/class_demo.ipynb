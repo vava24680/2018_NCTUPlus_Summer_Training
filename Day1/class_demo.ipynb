{
 "cells": [
  {
   "cell_type": "markdown",
   "metadata": {},
   "source": [
    "### 0.第一個Ruby程式"
   ]
  },
  {
   "cell_type": "code",
   "execution_count": null,
   "metadata": {},
   "outputs": [],
   "source": [
    "puts \"Hello World!\""
   ]
  },
  {
   "cell_type": "markdown",
   "metadata": {},
   "source": [
    "### 1.變數與常數"
   ]
  },
  {
   "cell_type": "code",
   "execution_count": null,
   "metadata": {},
   "outputs": [],
   "source": [
    "#區域變數\n",
    "name = \"豪豪\"\n",
    "age = 21\n",
    "學校 = \"NCTU\"\n",
    "\n",
    "#全域變數\n",
    "$name = \"豪豪\"\n",
    "\n",
    "#實體變數\n",
    "@name = \"豪豪\"\n",
    "\n",
    "@@name = \"豪豪\""
   ]
  },
  {
   "cell_type": "markdown",
   "metadata": {},
   "source": [
    "* 虛擬變數"
   ]
  },
  {
   "cell_type": "code",
   "execution_count": null,
   "metadata": {},
   "outputs": [],
   "source": [
    "# 這邊變數是Ruby內部定義的，內容不能被改變\n",
    "nil\n",
    "true\n",
    "false\n",
    "self"
   ]
  },
  {
   "cell_type": "markdown",
   "metadata": {},
   "source": [
    "* 變數預設值"
   ]
  },
  {
   "cell_type": "code",
   "execution_count": null,
   "metadata": {},
   "outputs": [],
   "source": [
    "puts @name\n",
    "puts $name\n",
    "puts name"
   ]
  },
  {
   "cell_type": "markdown",
   "metadata": {},
   "source": [
    "* 變數有效範圍\n"
   ]
  },
  {
   "cell_type": "code",
   "execution_count": null,
   "metadata": {},
   "outputs": [],
   "source": [
    "def say_hello\n",
    "  namee = \"魯夫\"\n",
    "  puts \"hi, 我是#{namee}\"\n",
    "end\n",
    "\n",
    "say_hello\n",
    "puts namee"
   ]
  },
  {
   "cell_type": "markdown",
   "metadata": {},
   "source": [
    "* 常數"
   ]
  },
  {
   "cell_type": "code",
   "execution_count": null,
   "metadata": {},
   "outputs": [],
   "source": [
    "Name = \"NCTU\"\n",
    "Age = 21\n",
    "ExangeRate = 0.28\n",
    "Name = \"NTHU\""
   ]
  },
  {
   "cell_type": "markdown",
   "metadata": {},
   "source": [
    "* 變數多重賦值"
   ]
  },
  {
   "cell_type": "code",
   "execution_count": null,
   "metadata": {},
   "outputs": [],
   "source": [
    "x = 1\n",
    "y = 2\n",
    "z = 3\n",
    "# 可以寫成這樣\n",
    "x, y, z = 1, 2, 3\n",
    "# 或是\n",
    "x, y, z = [1, 2, 3]"
   ]
  },
  {
   "cell_type": "markdown",
   "metadata": {},
   "source": [
    "* 多重指定數量不一樣時"
   ]
  },
  {
   "cell_type": "code",
   "execution_count": null,
   "metadata": {
    "scrolled": true
   },
   "outputs": [],
   "source": [
    "a, b = 1, 2, 3, 4\n",
    "\n",
    "puts a,b, \"------\"\n",
    "\n",
    "a, *b = 1, 2, 3, 4\n",
    "\n",
    "puts a,b, \"------\"\n",
    "\n",
    "x, y, z = [1, 2, 3, 4, 5]\n",
    "\n",
    "puts a,b, \"------\"\n",
    "\n",
    "x, y, *z = [1, 2, 3, 4, 5]\n",
    "\n",
    "puts a,b, \"------\"\n",
    "\n",
    "a, b, c = 1, 2\n",
    "\n",
    "puts a,b, \"------\""
   ]
  },
  {
   "cell_type": "markdown",
   "metadata": {},
   "source": [
    "### 2.註解"
   ]
  },
  {
   "cell_type": "code",
   "execution_count": null,
   "metadata": {},
   "outputs": [],
   "source": [
    "# 這是單行註唷\n",
    "=begin\n",
    "這\n",
    "是\n",
    "多\n",
    "行\n",
    "註\n",
    "解\n",
    "=end"
   ]
  },
  {
   "cell_type": "markdown",
   "metadata": {},
   "source": [
    "### 試試看利用多重指定來達成swap"
   ]
  },
  {
   "cell_type": "code",
   "execution_count": null,
   "metadata": {},
   "outputs": [],
   "source": []
  },
  {
   "cell_type": "markdown",
   "metadata": {},
   "source": [
    "### 3.數字"
   ]
  },
  {
   "cell_type": "code",
   "execution_count": null,
   "metadata": {},
   "outputs": [],
   "source": [
    "# 使用upto方法達成迴圈\n",
    "0.upto(10) do |i|\n",
    "  puts i\n",
    "end"
   ]
  },
  {
   "cell_type": "code",
   "execution_count": null,
   "metadata": {},
   "outputs": [],
   "source": [
    "# 數字的類別\n",
    "puts 1.class\n",
    "puts 1.5.class"
   ]
  },
  {
   "cell_type": "code",
   "execution_count": null,
   "metadata": {},
   "outputs": [],
   "source": [
    "8+9    # 加法"
   ]
  },
  {
   "cell_type": "code",
   "execution_count": null,
   "metadata": {},
   "outputs": [],
   "source": [
    "8 - 7 # 減法"
   ]
  },
  {
   "cell_type": "code",
   "execution_count": null,
   "metadata": {},
   "outputs": [],
   "source": [
    "5 * 6 # 乘法"
   ]
  },
  {
   "cell_type": "code",
   "execution_count": null,
   "metadata": {},
   "outputs": [],
   "source": [
    "7 / 8 # 整數除法"
   ]
  },
  {
   "cell_type": "code",
   "execution_count": null,
   "metadata": {},
   "outputs": [],
   "source": [
    "7.0 / 8 # 浮點數除法"
   ]
  },
  {
   "cell_type": "code",
   "execution_count": null,
   "metadata": {},
   "outputs": [],
   "source": [
    "9 % 4 # 取餘數"
   ]
  },
  {
   "cell_type": "code",
   "execution_count": null,
   "metadata": {},
   "outputs": [],
   "source": [
    "2 ** 10 # 次方"
   ]
  },
  {
   "cell_type": "code",
   "execution_count": null,
   "metadata": {},
   "outputs": [],
   "source": [
    "2 ** 0.5 # 開根號"
   ]
  },
  {
   "cell_type": "code",
   "execution_count": null,
   "metadata": {},
   "outputs": [],
   "source": [
    "-4.abs # 絕對值"
   ]
  },
  {
   "cell_type": "code",
   "execution_count": null,
   "metadata": {},
   "outputs": [],
   "source": [
    "2 + 4 / (1 + 1) * (3 - 4) # 括號四則運算"
   ]
  },
  {
   "cell_type": "code",
   "execution_count": null,
   "metadata": {},
   "outputs": [],
   "source": [
    "0.zero? # 是否為零，method? 代表回傳值為布林值(true or false)"
   ]
  },
  {
   "cell_type": "code",
   "execution_count": null,
   "metadata": {},
   "outputs": [],
   "source": [
    "5.even? # 是否為偶數"
   ]
  },
  {
   "cell_type": "code",
   "execution_count": null,
   "metadata": {},
   "outputs": [],
   "source": [
    "5.odd? # 是否為奇數"
   ]
  },
  {
   "cell_type": "code",
   "execution_count": null,
   "metadata": {},
   "outputs": [],
   "source": [
    "1234567890 * 121212121212121212 # 大數乘法"
   ]
  },
  {
   "cell_type": "code",
   "execution_count": null,
   "metadata": {},
   "outputs": [],
   "source": [
    "121212121212121212 / 1234567890 # 大數除法"
   ]
  },
  {
   "cell_type": "markdown",
   "metadata": {},
   "source": [
    "#### 練習：計算 4 的 87 次方"
   ]
  },
  {
   "cell_type": "code",
   "execution_count": null,
   "metadata": {},
   "outputs": [],
   "source": []
  },
  {
   "cell_type": "markdown",
   "metadata": {},
   "source": [
    "#### 練習：計算 87 的立方根"
   ]
  },
  {
   "cell_type": "code",
   "execution_count": null,
   "metadata": {},
   "outputs": [],
   "source": []
  },
  {
   "cell_type": "markdown",
   "metadata": {},
   "source": [
    "### 4. 字串"
   ]
  },
  {
   "cell_type": "code",
   "execution_count": null,
   "metadata": {},
   "outputs": [],
   "source": [
    "name = String.new(\"暑假\")\n",
    "name = \"暑假\"\n",
    "name = '暑假'"
   ]
  },
  {
   "cell_type": "markdown",
   "metadata": {},
   "source": [
    "* 字串安插(String Interpolation)"
   ]
  },
  {
   "cell_type": "code",
   "execution_count": null,
   "metadata": {},
   "outputs": [],
   "source": [
    "# 雙引號字串有安插功能\n",
    "name = \"eddie\"\n",
    "age = 18\n",
    "puts \"Hello, I'm #{name}, I'm #{age} years old.\""
   ]
  },
  {
   "cell_type": "code",
   "execution_count": null,
   "metadata": {},
   "outputs": [],
   "source": [
    "# 單引號字串則無\n",
    "name = \"eddie\"\n",
    "age = 18\n",
    "puts 'Hello, I\\'m #{name}, I\\'m #{age} years old.\\n\\t\\\"' #單引號要跳脫，但其它特殊字元不會跳脫"
   ]
  },
  {
   "cell_type": "code",
   "execution_count": null,
   "metadata": {},
   "outputs": [],
   "source": [
    "# 跳脫字元\n",
    "puts \"雙引號\\\"需要用反斜線來處理\\\"\"\n",
    "\n",
    "# 或是使用%Q\n",
    "puts %Q(你好，哈囉\"\"\"\"'''''\"\"\")\n",
    "\n",
    "# %q代表單引號字串\n",
    "puts %q(你好，#{name})"
   ]
  },
  {
   "cell_type": "markdown",
   "metadata": {},
   "source": [
    "* 字串相接"
   ]
  },
  {
   "cell_type": "code",
   "execution_count": null,
   "metadata": {},
   "outputs": [],
   "source": [
    "a = \"暑假\"\n",
    "b = \"在哪裡\"\n",
    "c = a + b\n",
    "puts c"
   ]
  },
  {
   "cell_type": "code",
   "execution_count": null,
   "metadata": {},
   "outputs": [],
   "source": [
    "a = \"變不見\"\n",
    "puts a * 3"
   ]
  },
  {
   "cell_type": "code",
   "execution_count": null,
   "metadata": {},
   "outputs": [],
   "source": [
    "# 使用<<或是concat進行字串相接\n",
    "a = \"Hello\"\n",
    "b = \", World\"\n",
    "puts a << b #或是 a.concat(b)"
   ]
  },
  {
   "cell_type": "markdown",
   "metadata": {},
   "source": [
    "* 字串format"
   ]
  },
  {
   "cell_type": "code",
   "execution_count": null,
   "metadata": {},
   "outputs": [],
   "source": [
    "foo = 123\n",
    "bar = 0.1\n",
    "printf(\"05d %.3f\", foo, bar)\n",
    "result = sprintf(\"05d %.3f\", foo, bar)"
   ]
  },
  {
   "cell_type": "code",
   "execution_count": null,
   "metadata": {},
   "outputs": [],
   "source": [
    "foo = 123\n",
    "bar = 0.1\n",
    "#只有一個變數要format\n",
    "puts \"%05d\" % foo\n",
    "#兩個以上的變數要format，要使用陣列的寫法\n",
    "puts \"%05d %.3f\" % [foo, bar]"
   ]
  },
  {
   "cell_type": "markdown",
   "metadata": {},
   "source": [
    "* 字串存取"
   ]
  },
  {
   "cell_type": "code",
   "execution_count": null,
   "metadata": {},
   "outputs": [],
   "source": [
    "a = \"Can I graduate from NCTU?\"\n",
    "puts a[8]\n",
    "puts 1[11]\n",
    "puts a[4,10] #=> \"I graduate\""
   ]
  },
  {
   "cell_type": "markdown",
   "metadata": {},
   "source": [
    "* 常用字串函數"
   ]
  },
  {
   "cell_type": "code",
   "execution_count": null,
   "metadata": {},
   "outputs": [],
   "source": [
    "str = \"The quick brown fox jumps over the lazy dog\"\n",
    "str.length # 或 str.length 字串長度"
   ]
  },
  {
   "cell_type": "code",
   "execution_count": null,
   "metadata": {},
   "outputs": [],
   "source": [
    "string = \"交大\"\n",
    "puts string.length\n",
    "puts string.bytesize"
   ]
  },
  {
   "cell_type": "code",
   "execution_count": null,
   "metadata": {},
   "outputs": [],
   "source": [
    "str = \"The quick brown fox jumps over the lazy dog\"\n",
    "str.split"
   ]
  },
  {
   "cell_type": "code",
   "execution_count": null,
   "metadata": {},
   "outputs": [],
   "source": [
    "csv = \"1,2,3,4,5,6\"\n",
    "csv.split \",\" # 以 \",\" 分割字串並存入陣列中"
   ]
  },
  {
   "cell_type": "code",
   "execution_count": null,
   "metadata": {},
   "outputs": [],
   "source": [
    "a = \"Today is a hot day\"\n",
    "a[1] = \"Bar\"\n",
    "print a\n",
    "# => \"TBarday is a hot day.\"\n",
    "\n",
    "a[\"hot\"] = \"cold\"\n",
    "print a\n",
    "# => \"TBarday is a cold day.\"\n",
    "\n",
    "a[0,7] = \"Yesterday\"\n",
    "print a\n",
    "# => \"Yesterday is a cold day\""
   ]
  },
  {
   "cell_type": "code",
   "execution_count": null,
   "metadata": {},
   "outputs": [],
   "source": [
    "# 字串替換\n",
    "str = \"PHP is good, and I love PHP\"\n",
    "str.sub(/PHP/, \"Ruby\") # sub只會替換掉最先遇到的\n",
    "# => \"Ruby is good, and I love PHP\"\n",
    "\n",
    "str.gsub(/PHP/, \"Ruby\") # gsub會替換掉全部符合的字串\n",
    "# => \"Ruby is good, and I love Ruby\""
   ]
  },
  {
   "cell_type": "code",
   "execution_count": null,
   "metadata": {},
   "outputs": [],
   "source": [
    "str = \"The quick silver fox jumps over the lazy dog\"\n",
    "str.reverse"
   ]
  },
  {
   "cell_type": "code",
   "execution_count": null,
   "metadata": {},
   "outputs": [],
   "source": [
    "# 字串反轉，reverse, reverse!\n",
    "str = \"The quick silver fox jumps over the lazy dog\"\n",
    "str.reverse\n",
    "puts str\n",
    "str.reverse!\n",
    "puts str"
   ]
  },
  {
   "cell_type": "code",
   "execution_count": null,
   "metadata": {},
   "outputs": [],
   "source": [
    "words = \"Ut in aliquam mauris. Donec dolor quam, saqittis id vel\"\n",
    "words.split.count"
   ]
  },
  {
   "cell_type": "code",
   "execution_count": null,
   "metadata": {},
   "outputs": [],
   "source": [
    "puts \"hello, ruby\".upcase # 轉成大寫\n",
    "puts \"HELLO, RUBY\".downcase # 轉成小寫\n",
    "puts \"Hello, Ruby\".swapcase # 大小寫互換"
   ]
  },
  {
   "cell_type": "code",
   "execution_count": null,
   "metadata": {},
   "outputs": [],
   "source": [
    "puts \"Not empty\".empty?\n",
    "puts \"\".empty?"
   ]
  },
  {
   "cell_type": "code",
   "execution_count": null,
   "metadata": {},
   "outputs": [],
   "source": [
    "words = \"Lorem Ipsum Dolor Sit Amet, Consectetur Adipiscing Elit\"\n",
    "puts words.count(\"i\")\n",
    "puts words.count(\"A-Z\")\n",
    "puts words.count(\"a-z\")"
   ]
  },
  {
   "cell_type": "markdown",
   "metadata": {},
   "source": [
    "* 型態轉換"
   ]
  },
  {
   "cell_type": "code",
   "execution_count": null,
   "metadata": {},
   "outputs": [],
   "source": [
    "puts 1.to_s\n",
    "puts 1.to_f\n",
    "puts \"-123\".to_i\n",
    "puts \"abc124545\".to_i"
   ]
  },
  {
   "cell_type": "markdown",
   "metadata": {},
   "source": [
    "### 5.符號"
   ]
  },
  {
   "cell_type": "code",
   "execution_count": null,
   "metadata": {},
   "outputs": [],
   "source": [
    ":name = \"豪豪\""
   ]
  },
  {
   "cell_type": "code",
   "execution_count": null,
   "metadata": {},
   "outputs": [],
   "source": [
    "class Order\n",
    "    attr_reader :status\n",
    "    def initialize(items, status = :pending)\n",
    "        @items = items\n",
    "        @status = status\n",
    "    end\n",
    "    def compete\n",
    "        @status = :complete\n",
    "    end\n",
    "end\n",
    "\n",
    "order = Order.new([\"item A\", \"item B\", \"item C\"])\n",
    "\n",
    "if order.status == :pending\n",
    "    puts \"order is pending\"\n",
    "end"
   ]
  },
  {
   "cell_type": "code",
   "execution_count": null,
   "metadata": {},
   "outputs": [],
   "source": [
    "puts :pending[0]\n",
    "puts :pending[1,4]"
   ]
  },
  {
   "cell_type": "code",
   "execution_count": null,
   "metadata": {},
   "outputs": [],
   "source": [
    "puts :pending.upcase\n",
    "puts :pending.length"
   ]
  },
  {
   "cell_type": "code",
   "execution_count": null,
   "metadata": {},
   "outputs": [],
   "source": [
    "\"hello\"[3] = \"k\""
   ]
  },
  {
   "cell_type": "code",
   "execution_count": null,
   "metadata": {},
   "outputs": [],
   "source": [
    ":hello[3] = \"k\""
   ]
  },
  {
   "cell_type": "markdown",
   "metadata": {},
   "source": [
    "* 字串與符號效能比較"
   ]
  },
  {
   "cell_type": "code",
   "execution_count": null,
   "metadata": {},
   "outputs": [],
   "source": [
    "require 'benchmark'\n",
    "loop_times = 100000000\n",
    "\n",
    "str = Benchmark.measure do\n",
    "  loop_times.times do\n",
    "    \"hello\" == \"hello\"\n",
    "  end\n",
    "end.total\n",
    "\n",
    "sym = Benchmark.measure do\n",
    "  loop_times.times do\n",
    "    :hello == :hello\n",
    "  end\n",
    "end.total\n",
    "\n",
    "puts \"Benchmark\"\n",
    "puts \"String: #{str}\"\n",
    "puts \"Symbol: #{sym}\""
   ]
  },
  {
   "cell_type": "markdown",
   "metadata": {},
   "source": [
    "* 字串與符號轉換"
   ]
  },
  {
   "cell_type": "code",
   "execution_count": null,
   "metadata": {},
   "outputs": [],
   "source": [
    "puts \"name\".to_sym\n",
    "puts \"name\".intern\n",
    "puts %s(name)\n",
    "puts :name.to_s\n",
    "puts :name.id2name"
   ]
  },
  {
   "cell_type": "markdown",
   "metadata": {},
   "source": [
    "### 6.陣列與範圍"
   ]
  },
  {
   "cell_type": "code",
   "execution_count": null,
   "metadata": {},
   "outputs": [],
   "source": [
    "array = Array.new # => 產生一空陣列"
   ]
  },
  {
   "cell_type": "code",
   "execution_count": null,
   "metadata": {},
   "outputs": [],
   "source": [
    "array = Array.new(5) # =>產生一個有5個元素且放滿nil的陣列"
   ]
  },
  {
   "cell_type": "code",
   "execution_count": null,
   "metadata": {},
   "outputs": [],
   "source": [
    "array = Array.new(5, \"Ruby\") # =>產生一個有5個元素且放滿\"Ruby\"的陣列"
   ]
  },
  {
   "cell_type": "code",
   "execution_count": null,
   "metadata": {},
   "outputs": [],
   "source": [
    "# 宣告並初始化陣列\n",
    "array = [\"Ruby\",\"Ruby\",\"Ruby\",\"Ruby\",\"Ruby\"]"
   ]
  },
  {
   "cell_type": "code",
   "execution_count": null,
   "metadata": {},
   "outputs": [],
   "source": [
    "# 陣列裡面的元素並不用相同type\n",
    "array = [1, \"Ruby\", 2, 2.5, \"PHP\"]"
   ]
  },
  {
   "cell_type": "code",
   "execution_count": null,
   "metadata": {},
   "outputs": [],
   "source": [
    "# 陣列裡面再塞陣列\n",
    "array = [\n",
    "  [1, 2, 3],\n",
    "  [4, 5, 6],\n",
    "  [7 ,8 ,9]\n",
    "  ]"
   ]
  },
  {
   "cell_type": "code",
   "execution_count": null,
   "metadata": {},
   "outputs": [],
   "source": [
    "array = [1, 4, 5]\n",
    "puts array[0]\n",
    "array[0] = 3 # 存取陣列元素\n",
    "puts array"
   ]
  },
  {
   "cell_type": "code",
   "execution_count": null,
   "metadata": {},
   "outputs": [],
   "source": [
    "array = [1, 2, 3, 4, 8, 9, 15, 13, 20]\n",
    "puts array[-1]\n",
    "puts array[1..3]\n",
    "puts array[2,4]\n",
    "puts array.first\n",
    "puts array.last"
   ]
  },
  {
   "cell_type": "code",
   "execution_count": null,
   "metadata": {},
   "outputs": [],
   "source": [
    "# 字串陣列快速寫法\n",
    "puts %W(hello world NCTU) # 相當於 [\"hello\", \"world\", \"NCTU\"]"
   ]
  },
  {
   "cell_type": "code",
   "execution_count": null,
   "metadata": {},
   "outputs": [],
   "source": [
    "a = [1, 4, 9]\n",
    "\n",
    "# 迭代方法一\n",
    "for i in a\n",
    "  puts i\n",
    "end\n",
    "\n",
    "puts\n",
    "\n",
    "# 迭代方法二\n",
    "a.each do |i|\n",
    "  puts i\n",
    "end"
   ]
  },
  {
   "cell_type": "code",
   "execution_count": null,
   "metadata": {},
   "outputs": [],
   "source": [
    "# 將陣列[1, 2, 3, 4, 5]轉為[1, 3, 5, 7, 9]\n",
    "# 可能會這樣寫\n",
    "array = [1,2,3,4,5]\n",
    "result = []\n",
    "array.each do |i|\n",
    "    result << i * 2 - 1\n",
    "end\n",
    "p result\n",
    "# => [1, 3, 5, 7, 9]"
   ]
  },
  {
   "cell_type": "code",
   "execution_count": null,
   "metadata": {},
   "outputs": [],
   "source": [
    "# 但Ruby有更乾淨的寫法\n",
    "array = [1,2,3,4,5]\n",
    "p array.map{|i| i * 2 - 1}\n",
    "# => [1, 3, 5, 7, 9]"
   ]
  },
  {
   "cell_type": "code",
   "execution_count": null,
   "metadata": {},
   "outputs": [],
   "source": [
    "# 用陣列選出0~100中的偶數\n",
    "puts ( [*1..100].select{|i| i.even?} )"
   ]
  },
  {
   "cell_type": "code",
   "execution_count": null,
   "metadata": {},
   "outputs": [],
   "source": [
    "# 反轉陣列\n",
    "a = [1, \"2\", [3]]\n",
    "a.reverse"
   ]
  },
  {
   "cell_type": "code",
   "execution_count": null,
   "metadata": {},
   "outputs": [],
   "source": [
    "# 排序陣列\n",
    "array = [3, 56, 1, 25, 8, 455]\n",
    "puts array.sort!"
   ]
  },
  {
   "cell_type": "code",
   "execution_count": null,
   "metadata": {},
   "outputs": [],
   "source": [
    "# 找出unique的元素\n",
    "array = [4, 1, 1, 2, 1, 2, 3]\n",
    "array.uniq #或是uniq!，會改變原有陣列"
   ]
  },
  {
   "cell_type": "code",
   "execution_count": null,
   "metadata": {},
   "outputs": [],
   "source": [
    "a = [1, 2, 3, 4, 5, 6, 7, 8, 9, 10]\n",
    "puts a.inject(1) {|product, i| product * i}"
   ]
  },
  {
   "cell_type": "code",
   "execution_count": null,
   "metadata": {},
   "outputs": [],
   "source": [
    "# 陣列融合\n",
    "a = [1, 2, 3]\n",
    "b = [4, 5, 6]\n",
    "a + b"
   ]
  },
  {
   "cell_type": "code",
   "execution_count": null,
   "metadata": {},
   "outputs": [],
   "source": [
    "# 找出陣列差集\n",
    "a = [1, 3, 4, 6, 7]\n",
    "b = [1, 3, 5, 67, 87]\n",
    "a - b"
   ]
  },
  {
   "cell_type": "code",
   "execution_count": null,
   "metadata": {},
   "outputs": [],
   "source": [
    "a = [3, 4, 5]\n",
    "\n",
    "a << 6 # 從後方插入\n",
    "puts a\n",
    "\n",
    "a.push 7 # 同上\n",
    "puts a\n",
    "\n",
    "a.unshift 2 # 從前方插入\n",
    "puts a\n",
    "\n",
    "front = a.shift # 從前方移除\n",
    "puts front\n",
    "puts a\n",
    "\n",
    "back = a.pop # 從後方移除\n",
    "puts back\n",
    "puts a\n",
    "\n",
    "a.insert 2, 100 # 插入指定的位置\n",
    "puts a"
   ]
  },
  {
   "cell_type": "code",
   "execution_count": null,
   "metadata": {},
   "outputs": [],
   "source": [
    "a = [1, 2, 3] # Array 的 Assignment 是 Pass-By-Reference \n",
    "b = a\n",
    "a.push 4\n",
    "puts b\n",
    "puts a.object_id, b.object_id\n",
    "# http://stackoverflow.com/questions/1872110/is-ruby-pass-by-reference-or-by-value"
   ]
  },
  {
   "cell_type": "code",
   "execution_count": null,
   "metadata": {},
   "outputs": [],
   "source": [
    "a = [1, 2, 3] # Array 的複製\n",
    "b = a.dup\n",
    "puts a.object_id, b.object_id\n",
    "a.push 4\n",
    "puts b\n",
    "puts a"
   ]
  },
  {
   "cell_type": "code",
   "execution_count": null,
   "metadata": {},
   "outputs": [],
   "source": [
    "[\"麥當勞\", \"7-11\", \"清大夜市\"].sample # 隨機取樣，可以用來抽籤"
   ]
  },
  {
   "cell_type": "markdown",
   "metadata": {},
   "source": [
    "* 範圍"
   ]
  },
  {
   "cell_type": "code",
   "execution_count": null,
   "metadata": {},
   "outputs": [],
   "source": [
    "(1..10) # => 產生1~10的範圍\n",
    "(1...10) # => 產生1~9的範圍\n",
    "('a'..'z') # => 產生\"a\"到\"z\"的範圍\n",
    "('aa'..'bc') # => 產生\"aa\"到\"bc\"的範圍"
   ]
  },
  {
   "cell_type": "code",
   "execution_count": null,
   "metadata": {},
   "outputs": [],
   "source": [
    "# 用來製作陣列\n",
    "# 製作值1~100的陣列\n",
    "array = (1..100).to_a\n",
    "# 或是這樣寫\n",
    "array = [*1..100]"
   ]
  },
  {
   "cell_type": "code",
   "execution_count": null,
   "metadata": {},
   "outputs": [],
   "source": [
    "(1..5).each {|x| puts x}"
   ]
  },
  {
   "cell_type": "code",
   "execution_count": null,
   "metadata": {},
   "outputs": [],
   "source": [
    "# 拿來取出陣列中的某些區段資料\n",
    "array = [\"ruby\", \"rails\", \"elixir\", \"phoenix\", \"php\", \"java\", \"python\", \"perl\"]\n",
    "puts array[1..3]\n",
    "# => [\"rails\", \"elixir\", \"phoenix\"]\n",
    "puts array[1...3]\n",
    "# => [\"rails\", \"elixir\"]"
   ]
  },
  {
   "cell_type": "markdown",
   "metadata": {},
   "source": [
    "### 7.雜湊(Hash)"
   ]
  },
  {
   "cell_type": "code",
   "execution_count": null,
   "metadata": {},
   "outputs": [],
   "source": [
    "hash = Hash.new"
   ]
  },
  {
   "cell_type": "code",
   "execution_count": null,
   "metadata": {},
   "outputs": [],
   "source": [
    "empty_hash = {}"
   ]
  },
  {
   "cell_type": "code",
   "execution_count": null,
   "metadata": {},
   "outputs": [],
   "source": [
    "old_hash = {:title => \"Ruby\", :price => \"350\"}\n",
    "new_hash = {title: \"Ruby\", price: => \"350\"}\n",
    "string_hash = {\"title\" => \"Ruby\", \"price\" => 350}"
   ]
  },
  {
   "cell_type": "code",
   "execution_count": null,
   "metadata": {},
   "outputs": [],
   "source": [
    "hash = {}\n",
    "hash[\"doge\"] = \"Wow!\" #新增一組key-value pair可以這樣寫\n",
    "hash[\"doge\"]"
   ]
  },
  {
   "cell_type": "code",
   "execution_count": null,
   "metadata": {},
   "outputs": [],
   "source": [
    "hash = {'a' => 100, 'b' => 200, 'c' => 300}\n",
    "puts hash\n",
    "puts hash['d'].nil?\n",
    "\n",
    "hash['d'] = [1, 2, 3]\n",
    "puts hash\n",
    "\n",
    "hash.delete 'a'\n",
    "puts hash"
   ]
  },
  {
   "cell_type": "code",
   "execution_count": null,
   "metadata": {},
   "outputs": [],
   "source": [
    "# 存取hash\n",
    "hash = {course: \"HW-SW design\", grade: 61}\n",
    "p hash[\"course\"]\n",
    "# => nil\n",
    "p hash[:course]\n",
    "# => \"HW-SW design\""
   ]
  },
  {
   "cell_type": "code",
   "execution_count": null,
   "metadata": {},
   "outputs": [],
   "source": [
    "# 把hash裡面的東西一個一個印出來\n",
    "hash = {course: \"HW-SW design\", grade: 61, description: \"不予置評\"}\n",
    "hash.each do |key|\n",
    "    puts key\n",
    "end\n",
    "hash.each do |key,value|\n",
    "    puts value\n",
    "end"
   ]
  },
  {
   "cell_type": "markdown",
   "metadata": {},
   "source": [
    "##### 練習：詞頻分析，數數看下面這句話每個字各出現幾次？\n",
    "<img src=\"https://pics.onsizzle.com/this-is-a-ship-shipping-ship-shipping-shipping-ships-15732786.png\" style=\"height: 300px;\" align=\"left\" />"
   ]
  },
  {
   "cell_type": "code",
   "execution_count": null,
   "metadata": {},
   "outputs": [],
   "source": [
    "str = \"This is a ship-shipping ship, shipping shipping ships.\"\n",
    "str.gsub!(/[,.-]/, \" \") # 已經把怪符號換成空白\n",
    "hash = Hash.new(0)\n",
    "# Hint: downcase, split\n",
    "str.downcase!\n",
    "str.split.each do |s|\n",
    "  hash[s] += 1\n",
    "end\n",
    "\n",
    "hash.each do |key, value|\n",
    "  puts \"#{key} appeared #{value} time(s).\"\n",
    "end"
   ]
  },
  {
   "cell_type": "markdown",
   "metadata": {},
   "source": [
    "### 8.流程控制"
   ]
  },
  {
   "cell_type": "markdown",
   "metadata": {},
   "source": [
    "##### True, False, Nil"
   ]
  },
  {
   "cell_type": "code",
   "execution_count": null,
   "metadata": {},
   "outputs": [],
   "source": [
    "puts true, false\n",
    "\n",
    "puts nil\n",
    "\n",
    "puts true & false\n",
    "\n",
    "puts true | false"
   ]
  },
  {
   "cell_type": "code",
   "execution_count": null,
   "metadata": {},
   "outputs": [],
   "source": [
    "puts true & nil\n",
    "\n",
    "puts true | nil\n",
    "\n",
    "puts !nil"
   ]
  },
  {
   "cell_type": "code",
   "execution_count": null,
   "metadata": {},
   "outputs": [],
   "source": [
    "a = nil\n",
    "puts a.nil?\n",
    "a = [1, 2, 3]\n",
    "puts a[3].nil?"
   ]
  },
  {
   "cell_type": "markdown",
   "metadata": {},
   "source": [
    "##### if-else"
   ]
  },
  {
   "cell_type": "code",
   "execution_count": null,
   "metadata": {},
   "outputs": [],
   "source": [
    "a = -1\n",
    "\n",
    "if a > 4\n",
    "  puts \"a > 4\"\n",
    "elsif a > 1\n",
    "  puts \"1 < a < 4\"\n",
    "else\n",
    "  puts \"a <= 1\"\n",
    "end"
   ]
  },
  {
   "cell_type": "code",
   "execution_count": null,
   "metadata": {},
   "outputs": [],
   "source": [
    "grade = 80\n",
    "puts \"You are passed\" if grade >= 60\n",
    "\n",
    "grade = 57\n",
    "puts \"You are failed\" unless grade >= 60 # unless = if not"
   ]
  },
  {
   "cell_type": "code",
   "execution_count": null,
   "metadata": {},
   "outputs": [],
   "source": [
    "puts \"0 is not false\" if 0 # 和 C / C++ / Python 等不同，0不被視為 False\n",
    "puts \"False\" if not false\n",
    "puts \"Nil\" if not nil # Nil 和 False ㄧ樣被視為 Fals"
   ]
  },
  {
   "cell_type": "code",
   "execution_count": null,
   "metadata": {},
   "outputs": [],
   "source": [
    "# 三元判斷子\n",
    "grade = 58\n",
    "puts (grade >= 60) ? \"pass\" : \"failed\""
   ]
  },
  {
   "cell_type": "markdown",
   "metadata": {},
   "source": [
    "* 練習：寫一個判斷閏年的函數，如果傳入的年份是閏年則回傳 true，否則 false\n",
    "[閏年規則（維基百科）](https://zh.wikipedia.org/wiki/閏年)"
   ]
  },
  {
   "cell_type": "code",
   "execution_count": null,
   "metadata": {},
   "outputs": [],
   "source": []
  },
  {
   "cell_type": "markdown",
   "metadata": {},
   "source": [
    "* case-when"
   ]
  },
  {
   "cell_type": "code",
   "execution_count": null,
   "metadata": {},
   "outputs": [],
   "source": [
    "grade = 58\n",
    "\n",
    "case grade\n",
    "    when 0..54\n",
    "        puts \"當QQ\"\n",
    "    when 55..59\n",
    "        puts \"考慮中\"\n",
    "    else\n",
    "        puts \"過囉\" \n",
    "end"
   ]
  },
  {
   "cell_type": "markdown",
   "metadata": {},
   "source": [
    "### 9.迴圈、迭代"
   ]
  },
  {
   "cell_type": "markdown",
   "metadata": {},
   "source": [
    "* while迴圈"
   ]
  },
  {
   "cell_type": "code",
   "execution_count": null,
   "metadata": {},
   "outputs": [],
   "source": [
    "# while迴圈\n",
    "counter = 0\n",
    "while counter < 5\n",
    "    puts \"hi, #{counter}\"\n",
    "    counter += 1\n",
    "end"
   ]
  },
  {
   "cell_type": "code",
   "execution_count": null,
   "metadata": {},
   "outputs": [],
   "source": [
    "# while跟if一樣，有一個表示while not的邏輯until可以使用\n",
    "counter = 0\n",
    "until count >= 5\n",
    "    puts \"hi, #{counter}\"\n",
    "    counter += 1\n",
    "end"
   ]
  },
  {
   "cell_type": "code",
   "execution_count": null,
   "metadata": {},
   "outputs": [],
   "source": [
    "# 單行式while\n",
    "#counter = 0\n",
    "#counter += 1 when a > b\n",
    "#counter += 1 until a <= b"
   ]
  },
  {
   "cell_type": "code",
   "execution_count": null,
   "metadata": {},
   "outputs": [],
   "source": [
    "# begin-end-while迴圈\n",
    "def play\n",
    "  puts \"Good\"\n",
    "end\n",
    "\n",
    "def exam_tomorrow?\n",
    "  true\n",
    "end\n",
    "\n",
    "begin\n",
    "  play\n",
    "end while !exam_tomorrow?\n",
    "puts \"Studying\""
   ]
  },
  {
   "cell_type": "markdown",
   "metadata": {},
   "source": [
    "* for..in 迴圈"
   ]
  },
  {
   "cell_type": "code",
   "execution_count": null,
   "metadata": {},
   "outputs": [],
   "source": [
    "for i in 1..5 do\n",
    "    puts i\n",
    "end"
   ]
  },
  {
   "cell_type": "code",
   "execution_count": null,
   "metadata": {},
   "outputs": [],
   "source": [
    "# 拿來印出陣列中所有的內容\n",
    "frameworks = [\"Ruby\", \"PHP\", \"Angular\", \"Django\"]\n",
    "for framework in frameworks\n",
    "    puts framework\n",
    "end"
   ]
  },
  {
   "cell_type": "code",
   "execution_count": null,
   "metadata": {},
   "outputs": [],
   "source": [
    "5.times do\n",
    "    puts \"Hello World!\"\n",
    "end\n",
    "# 5.times是指定迴圈要跑5次\n",
    "\n",
    "0.upto(5) do |i|\n",
    "    puts i\n",
    "end\n",
    "# 從0數到5\n",
    "\n",
    "5.downto(0) do |i|\n",
    "    puts i\n",
    "end\n",
    "# 從5數到0\n",
    "\n",
    "\"aa\".upto(\"ba\") do |string|\n",
    "    puts string\n",
    "end\n",
    "# 從\"aa\"數到\"ba\""
   ]
  },
  {
   "cell_type": "markdown",
   "metadata": {},
   "source": [
    "* 迭代器"
   ]
  },
  {
   "cell_type": "code",
   "execution_count": null,
   "metadata": {},
   "outputs": [],
   "source": [
    "# each迭代器，可用在陣列或是hash上\n",
    "frameworks = [\"Ruby\", \"PHP\", \"Angular\", \"Django\"]\n",
    "frameworks.each do |framework|\n",
    "    puts framework\n",
    "end\n",
    "\n",
    "# 如果想印出index可以這樣寫\n",
    "frameworks.each_with_index do |framework, index|\n",
    "    puts \"#{index}, #{framework}\"\n",
    "end\n",
    "\n",
    "# 用在hash上\n",
    "hash = {course: \"HW-SW design\", grade: \"60\", description: \"不予置評\"}\n",
    "hash.each do |key,value|\n",
    "    puts \"#{key}, #{value}\"\n",
    "end\n",
    "\n",
    "## 用在hash的key上\n",
    "hash.keys.each do |key|\n",
    "    puts key\n",
    "end\n",
    "\n",
    "hash.each_key do |key|\n",
    "    puts key\n",
    "end"
   ]
  },
  {
   "cell_type": "code",
   "execution_count": null,
   "metadata": {},
   "outputs": [],
   "source": [
    "Hash.methods"
   ]
  },
  {
   "cell_type": "markdown",
   "metadata": {},
   "source": [
    "### 9.方法"
   ]
  },
  {
   "cell_type": "code",
   "execution_count": null,
   "metadata": {},
   "outputs": [],
   "source": [
    "# 定義方法\n",
    "def say_hello_to(name)\n",
    "    puts \"hello, #{name}\"\n",
    "end"
   ]
  },
  {
   "cell_type": "code",
   "execution_count": null,
   "metadata": {},
   "outputs": [],
   "source": [
    "# 呼叫方法\n",
    "puts say_hello_to(\"Alice\")\n",
    "# 可以省略小括號\n",
    "puts say_hello_to \"Alice\""
   ]
  },
  {
   "cell_type": "code",
   "execution_count": null,
   "metadata": {},
   "outputs": [],
   "source": [
    "# 參數預設值\n",
    "def say_something(message = \"WTF\")\n",
    "    \"message: #{message}\"\n",
    "end\n",
    "\n",
    "puts say_something \"Hi\" # => \"message: hi\"\n",
    "puts say_something # => \"message: WTF\""
   ]
  },
  {
   "cell_type": "code",
   "execution_count": null,
   "metadata": {},
   "outputs": [],
   "source": [
    "# 方法的回傳值\n",
    "def bmi_calculator(height, weight)\n",
    "    return weight / (height ** 2)\n",
    "end\n",
    "\n",
    "puts bmi_calculator(1.70, 80)"
   ]
  },
  {
   "cell_type": "code",
   "execution_count": null,
   "metadata": {},
   "outputs": [],
   "source": [
    "# 可以省略return\n",
    "def bmi_calculator(height, weight)\n",
    "    weight / (height ** 2)\n",
    "end\n",
    "puts bmi_calculator(1.65, 80)"
   ]
  },
  {
   "cell_type": "code",
   "execution_count": null,
   "metadata": {},
   "outputs": [],
   "source": [
    "# 多重回傳值函數\n",
    "def multi_return_function\n",
    "  return [1,2,3,\"Hello\"]\n",
    "end\n",
    "a, b, c, d = multi_return_function\n",
    "puts a\n",
    "puts b\n",
    "puts c\n",
    "puts d"
   ]
  },
  {
   "cell_type": "code",
   "execution_count": null,
   "metadata": {},
   "outputs": [],
   "source": [
    "# 特殊方法(方法名末帶有!, ?)\n",
    "def pass?(grade)\n",
    "    grade >= 60\n",
    "end\n",
    "puts pass?(58) # => false\n",
    "\n",
    "original_array = [1, 2, 3, 4, 5]\n",
    "original_array.reverse!"
   ]
  },
  {
   "cell_type": "markdown",
   "metadata": {},
   "source": [
    "##### 練習：試著定義階乘（factorial）"
   ]
  },
  {
   "cell_type": "code",
   "execution_count": null,
   "metadata": {},
   "outputs": [],
   "source": [
    "def fact(n)\n",
    "  \n",
    "end"
   ]
  },
  {
   "cell_type": "markdown",
   "metadata": {},
   "source": [
    "### 10.區塊"
   ]
  },
  {
   "cell_type": "code",
   "execution_count": null,
   "metadata": {},
   "outputs": [],
   "source": [
    "# 大括號寫法\n",
    "6.times { |i| puts i }"
   ]
  },
  {
   "cell_type": "code",
   "execution_count": null,
   "metadata": {},
   "outputs": [],
   "source": [
    "# do-end寫法\n",
    "6.times do |i|\n",
    "    puts i\n",
    "end"
   ]
  },
  {
   "cell_type": "code",
   "execution_count": null,
   "metadata": {},
   "outputs": [],
   "source": [
    "# 讓附掛的block執行，使用yield方法\n",
    "def say_hello\n",
    "    puts \"Start\"\n",
    "    yield\n",
    "    puts \"End\"\n",
    "end\n",
    "\n",
    "say_hello{\n",
    "    puts \"Here is block\"\n",
    "}\n",
    "# => get\n",
    "#\"Start\"\n",
    "#\"End\"\n",
    "#\"Here is block\""
   ]
  },
  {
   "cell_type": "code",
   "execution_count": null,
   "metadata": {},
   "outputs": [],
   "source": [
    "# 傳參數給block\n",
    "def greeting(name1, name2)\n",
    "    yield name1, name2\n",
    "end\n",
    "\n",
    "greeting(\"Bob\", \"Alice\") { |name1, name2|\n",
    "    puts \"Hello #{name1} and #{name2}\"\n",
    "}"
   ]
  },
  {
   "cell_type": "code",
   "execution_count": null,
   "metadata": {},
   "outputs": [],
   "source": [
    "# block有回傳值\n",
    "def pick(list)\n",
    "    result = []\n",
    "    list.each do |i|\n",
    "        result << i if yield i\n",
    "    end\n",
    "end\n",
    "puts pick([*1..100]) { |x| x.even? }\n",
    "puts pick([*1..100]) {|x| x < 5}"
   ]
  },
  {
   "cell_type": "code",
   "execution_count": null,
   "metadata": {},
   "outputs": [],
   "source": [
    "# 區塊物件化\n",
    "greeting = Proc.new { puts \"Hello, World\" } #使用Proc類別將區塊物件化\n",
    "greeting.call"
   ]
  },
  {
   "cell_type": "code",
   "execution_count": null,
   "metadata": {},
   "outputs": [],
   "source": [
    "# 區塊物件化，有參數時\n",
    "greeting = Proc.new {|name| puts \"Hello, #{name}\"}\n",
    "greeting.call(\"暑假\")\n",
    "\n",
    "# 也可以這樣寫\n",
    "greeting.call(\"暑假\")\n",
    "greeting.(\"暑假\")\n",
    "greeting.yield \"暑假\""
   ]
  },
  {
   "cell_type": "markdown",
   "metadata": {},
   "source": [
    "### 11.物件導向程式設計"
   ]
  },
  {
   "cell_type": "code",
   "execution_count": null,
   "metadata": {},
   "outputs": [],
   "source": [
    "# 類別定義\n",
    "class Animal\n",
    "    def eat(food)\n",
    "        puts \"#{food} is good\"\n",
    "    end\n",
    "end"
   ]
  },
  {
   "cell_type": "code",
   "execution_count": null,
   "metadata": {},
   "outputs": [],
   "source": [
    "cat = Animal.new\n",
    "dog = Animal.new\n",
    "cat.eat(\"fish\") # => \"fish is good\"\n",
    "dog.eat(\"寶路\") # => \"寶路 is good\""
   ]
  },
  {
   "cell_type": "code",
   "execution_count": null,
   "metadata": {},
   "outputs": [],
   "source": [
    "# 建構子\n",
    "class Animal\n",
    "    def initialize(name)\n",
    "        puts \"Hi, #{name}\"\n",
    "        @name = name\n",
    "    end\n",
    "end"
   ]
  },
  {
   "cell_type": "code",
   "execution_count": null,
   "metadata": {},
   "outputs": [],
   "source": [
    "# 使用建構子出始化\n",
    "cat = Animal.new(\"Lisa\")"
   ]
  },
  {
   "cell_type": "markdown",
   "metadata": {},
   "source": [
    "* 實體變數"
   ]
  },
  {
   "cell_type": "code",
   "execution_count": null,
   "metadata": {},
   "outputs": [],
   "source": [
    "# 實體變數取用\n",
    "cat = Animal.new(\"Lisa\")\n",
    "cat.name # => 會噴error"
   ]
  },
  {
   "cell_type": "markdown",
   "metadata": {},
   "source": [
    "**Ruby並沒有像C++有屬性這樣的設計**\n",
    "**要存取實體變數必須另外定義方法**"
   ]
  },
  {
   "cell_type": "code",
   "execution_count": null,
   "metadata": {},
   "outputs": [],
   "source": [
    "class Animal\n",
    "      def initialize(name)\n",
    "          puts \"Its name is #{name}\"\n",
    "          @name\n",
    "      end\n",
    "      \n",
    "      def say_hello\n",
    "          puts \"Hi, #{@name}\"\n",
    "      end\n",
    "      \n",
    "      def name\n",
    "          @name\n",
    "      end\n",
    "      \n",
    "      def name=(new_name)\n",
    "          @name = new_name\n",
    "      end\n",
    "end\n",
    "\n",
    "cat = Animal.new(\"Lisa\")\n",
    "puts cat.name\n",
    "\n",
    "cat.name = \"Bob\"\n",
    "puts cat.name"
   ]
  },
  {
   "cell_type": "code",
   "execution_count": null,
   "metadata": {},
   "outputs": [],
   "source": [
    "# 使用ruby已經定義好的方法幫我們處理存取實體變數問題\n",
    "class Animal\n",
    "    attr_accessor :name # => 可以直接使用實體.name已及實體.name=方法 \n",
    "    def initialize(name)\n",
    "        puts \"Its name is #{name}\"\n",
    "        @name = name\n",
    "    end\n",
    "\n",
    "    def say_hello\n",
    "        puts \"Hi, #{@name}\"\n",
    "    end\n",
    "end\n",
    "\n",
    "cat = Animal.new(\"Lisa\")\n",
    "puts cat.name\n",
    "\n",
    "cat.name = \"Bob\"\n",
    "puts cat.name"
   ]
  },
  {
   "cell_type": "markdown",
   "metadata": {},
   "source": [
    "* 實體方法、類別方法"
   ]
  },
  {
   "cell_type": "code",
   "execution_count": null,
   "metadata": {},
   "outputs": [],
   "source": [
    "# 實體方法\n",
    "class Animal\n",
    "    attr_accessor :name # => 可以直接使用實體.name已及實體.name=方法 \n",
    "    def initialize(name)\n",
    "        puts \"Its name is #{name}\"\n",
    "        @name = name\n",
    "    end\n",
    "\n",
    "    def say_hello\n",
    "        puts \"Hi, #{@name}\"\n",
    "    end\n",
    "end\n",
    "\n",
    "cat = Animal.new(\"Lisa\")\n",
    "cat.say_hello # => 實體方法\n",
    "Animal.say_hello # => 類別無法使用實體方法"
   ]
  },
  {
   "cell_type": "code",
   "execution_count": null,
   "metadata": {},
   "outputs": [],
   "source": [
    "# 類別方法\n",
    "class Animal\n",
    "    attr_accessor :name # => 可以直接使用實體.name已及實體.name=方法 \n",
    "    def initialize(name)\n",
    "        puts \"Its name is #{name}\"\n",
    "        @name = name\n",
    "    end\n",
    "\n",
    "    def say_hello\n",
    "        puts \"Hi, #{@name}\"\n",
    "    end\n",
    "  \n",
    "    def self.class_method\n",
    "        puts \"This is #{self} class\"\n",
    "    end\n",
    "end\n",
    "\n",
    "Animal.class_method\n",
    "\n",
    "cat = Animal.new(\"Lisa\")\n",
    "cat.class_method"
   ]
  },
  {
   "cell_type": "code",
   "execution_count": null,
   "metadata": {},
   "outputs": [],
   "source": [
    "# 類別方法也可以寫成\n",
    "class Animal\n",
    "    attr_accessor :name # => 可以直接使用實體.name已及實體.name=方法 \n",
    "    def initialize(name)\n",
    "        puts \"Its name is #{name}\"\n",
    "        @name = name\n",
    "    end\n",
    "\n",
    "    def say_hello\n",
    "        puts \"Hi, #{@name}\"\n",
    "    end\n",
    "  \n",
    "    class << self\n",
    "        def class_method\n",
    "            puts \"This is #{self} class\"\n",
    "        end\n",
    "    end\n",
    "end\n",
    "  \n",
    "Animal.class_method"
   ]
  },
  {
   "cell_type": "markdown",
   "metadata": {},
   "source": [
    "* 方法存取控制"
   ]
  },
  {
   "cell_type": "code",
   "execution_count": null,
   "metadata": {},
   "outputs": [],
   "source": [
    "# 方法存取控制範例\n",
    "class Human\n",
    "    def eat(food)\n",
    "        puts \"#{food} is good\"\n",
    "    end\n",
    "    \n",
    "    protected\n",
    "    def sleeping\n",
    "        puts \"zzzzzz...\"\n",
    "    end\n",
    "    \n",
    "    private\n",
    "    def gossip\n",
    "        puts \"Don't tell anyone that I told you\"\n",
    "    end\n",
    "end\n",
    "\n",
    "jack = Human.new\n",
    "jack.eat(\"Macdonald\")\n",
    "jack.sleeping\n",
    "jack.gossip"
   ]
  },
  {
   "cell_type": "code",
   "execution_count": null,
   "metadata": {},
   "outputs": [],
   "source": [
    "class Human\n",
    "    def say_hello\n",
    "        self.gossip\n",
    "    end\n",
    "    \n",
    "    private\n",
    "    def gossip\n",
    "        puts \"Don't tell anyone that I told you\"\n",
    "    end\n",
    "end\n",
    "jack = Human.new\n",
    "jack.say_hello # => NoMethodError"
   ]
  },
  {
   "cell_type": "code",
   "execution_count": null,
   "metadata": {},
   "outputs": [],
   "source": [
    "# 繞過priva method無法執行的情形\n",
    "# 使用send且不指定receiver\n",
    "jack = Human.new\n",
    "jack.send(:gossip) # => Don't tell anyone that I told you"
   ]
  },
  {
   "cell_type": "markdown",
   "metadata": {},
   "source": [
    "* 繼承"
   ]
  },
  {
   "cell_type": "code",
   "execution_count": null,
   "metadata": {},
   "outputs": [],
   "source": [
    "class Animal\n",
    "  def eat(food)\n",
    "    puts \"#{food} is Yammy!!\"\n",
    "  end\n",
    "end\n",
    "class Cat < Animal\n",
    "end"
   ]
  },
  {
   "cell_type": "code",
   "execution_count": null,
   "metadata": {},
   "outputs": [],
   "source": [
    "tommy = Cat.new\n",
    "tommy.eat(\"Fish\")"
   ]
  },
  {
   "cell_type": "markdown",
   "metadata": {},
   "source": [
    "* 開放類別"
   ]
  },
  {
   "cell_type": "code",
   "execution_count": null,
   "metadata": {},
   "outputs": [],
   "source": [
    "class Cat\n",
    "    def abc\n",
    "        puts \"abc\"\n",
    "    end\n",
    "end\n",
    "\n",
    "class Cat\n",
    "    def xyz\n",
    "        puts \"xyz\"\n",
    "    end\n",
    "end\n",
    "\n",
    "kitty = Cat.new\n",
    "kitty.abc # => \"abc\" or NoMethodError\n",
    "kitty.xyz # => \"xyz\"?"
   ]
  },
  {
   "cell_type": "markdown",
   "metadata": {},
   "source": [
    "* 模組"
   ]
  },
  {
   "cell_type": "code",
   "execution_count": null,
   "metadata": {},
   "outputs": [],
   "source": [
    "module Flyable\n",
    "    def fly\n",
    "        puts \"I can fly!\"\n",
    "    end\n",
    "end\n",
    "\n",
    "class Cat\n",
    "    include Flyable\n",
    "end\n",
    "\n",
    "kitty = Cat.new\n",
    "kitty.fly # => \"I can fly!\""
   ]
  },
  {
   "cell_type": "code",
   "execution_count": null,
   "metadata": {},
   "outputs": [],
   "source": [
    "# 作為命名空間\n",
    "module ActiveRecord\n",
    "    class Base\n",
    "      \n",
    "    end\n",
    "end"
   ]
  },
  {
   "cell_type": "code",
   "execution_count": null,
   "metadata": {},
   "outputs": [],
   "source": [
    "class User < ActiveRecord::Base\n",
    "end"
   ]
  }
 ],
 "metadata": {
  "kernelspec": {
   "display_name": "Ruby 2.4.4",
   "language": "ruby",
   "name": "ruby"
  },
  "language_info": {
   "file_extension": ".rb",
   "mimetype": "application/x-ruby",
   "name": "ruby",
   "version": "2.4.4"
  }
 },
 "nbformat": 4,
 "nbformat_minor": 2
}
